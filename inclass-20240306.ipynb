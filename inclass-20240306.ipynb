{
 "cells": [
  {
   "cell_type": "code",
   "execution_count": 1,
   "id": "aaa4f1b7-b07b-4126-b629-1b9039feeefe",
   "metadata": {},
   "outputs": [],
   "source": [
    "import json, sys, os"
   ]
  },
  {
   "cell_type": "code",
   "execution_count": 8,
   "id": "59798ba2-af94-42cc-89a6-518cd2378138",
   "metadata": {},
   "outputs": [
    {
     "data": {
      "text/plain": [
       "'[ \"12:01:32.686 PM 04-Mar-2024\" , \"BET\" , {\"name\":\"danny\", \"bet\":1.0, \"folded\":\"false\", \"round_winner_by_cards\": \"charlie\", \"chips\":14.0, \"face_down_cards\":[[\"2\",\"diamond\"]], \"face_up_cards\":[[\"2\",\"heart\"],[\"9\",\"diamond\"],[\"8\",\"diamond\"]],\"face_player_cards\":[[\"3\",\"heart\"]],\"all_cards\":[[\"2\",\"diamond\"],[\"3\",\"heart\"],[\"8\",\"diamond\"],[\"2\",\"heart\"],[\"9\",\"diamond\"]], \"handvalue\":\"one pair\"}]'"
      ]
     },
     "execution_count": 8,
     "metadata": {},
     "output_type": "execute_result"
    }
   ],
   "source": [
    "foo = '[ \"12:01:32.686 PM 04-Mar-2024\" , \"BET\" , {\"name\":\"danny\", \"bet\":1.0, \"folded\":\"false\", \"round_winner_by_cards\": \"charlie\", \"chips\":14.0, \"face_down_cards\":[[\"2\",\"diamond\"]], \"face_up_cards\":[[\"2\",\"heart\"],[\"9\",\"diamond\"],[\"8\",\"diamond\"]],\"face_player_cards\":[[\"3\",\"heart\"]],\"all_cards\":[[\"2\",\"diamond\"],[\"3\",\"heart\"],[\"8\",\"diamond\"],[\"2\",\"heart\"],[\"9\",\"diamond\"]], \"handvalue\":\"one pair\"}]'\n",
    "foo"
   ]
  },
  {
   "cell_type": "code",
   "execution_count": 10,
   "id": "b5341565-694e-4150-8064-98aaa29dc94d",
   "metadata": {},
   "outputs": [
    {
     "data": {
      "text/plain": [
       "['12:01:32.686 PM 04-Mar-2024',\n",
       " 'BET',\n",
       " {'name': 'danny',\n",
       "  'bet': 1.0,\n",
       "  'folded': 'false',\n",
       "  'round_winner_by_cards': 'charlie',\n",
       "  'chips': 14.0,\n",
       "  'face_down_cards': [['2', 'diamond']],\n",
       "  'face_up_cards': [['2', 'heart'], ['9', 'diamond'], ['8', 'diamond']],\n",
       "  'face_player_cards': [['3', 'heart']],\n",
       "  'all_cards': [['2', 'diamond'],\n",
       "   ['3', 'heart'],\n",
       "   ['8', 'diamond'],\n",
       "   ['2', 'heart'],\n",
       "   ['9', 'diamond']],\n",
       "  'handvalue': 'one pair'}]"
      ]
     },
     "execution_count": 10,
     "metadata": {},
     "output_type": "execute_result"
    }
   ],
   "source": [
    "my_row = json.loads(foo)\n",
    "my_row"
   ]
  },
  {
   "cell_type": "code",
   "execution_count": 11,
   "id": "bb997240-79c7-4566-937a-29ea9a4094e9",
   "metadata": {},
   "outputs": [
    {
     "data": {
      "text/plain": [
       "'12:01:32.686 PM 04-Mar-2024'"
      ]
     },
     "execution_count": 11,
     "metadata": {},
     "output_type": "execute_result"
    }
   ],
   "source": [
    "my_row[0]"
   ]
  },
  {
   "cell_type": "code",
   "execution_count": 12,
   "id": "21bb26df-bd3b-41e1-ba26-627f512cacdd",
   "metadata": {},
   "outputs": [
    {
     "data": {
      "text/plain": [
       "'BET'"
      ]
     },
     "execution_count": 12,
     "metadata": {},
     "output_type": "execute_result"
    }
   ],
   "source": [
    "my_row[1]"
   ]
  },
  {
   "cell_type": "code",
   "execution_count": 16,
   "id": "6b3835e2-db0d-446e-9a7b-5f35fb8c7971",
   "metadata": {},
   "outputs": [
    {
     "data": {
      "text/plain": [
       "{'name': 'danny',\n",
       " 'bet': 1.0,\n",
       " 'folded': 'false',\n",
       " 'round_winner_by_cards': 'charlie',\n",
       " 'chips': 14.0,\n",
       " 'face_down_cards': [['2', 'diamond']],\n",
       " 'face_up_cards': [['2', 'heart'], ['9', 'diamond'], ['8', 'diamond']],\n",
       " 'face_player_cards': [['3', 'heart']],\n",
       " 'all_cards': [['2', 'diamond'],\n",
       "  ['3', 'heart'],\n",
       "  ['8', 'diamond'],\n",
       "  ['2', 'heart'],\n",
       "  ['9', 'diamond']],\n",
       " 'handvalue': 'one pair'}"
      ]
     },
     "execution_count": 16,
     "metadata": {},
     "output_type": "execute_result"
    }
   ],
   "source": [
    "my_row[2]"
   ]
  },
  {
   "cell_type": "code",
   "execution_count": 17,
   "id": "9dc8aab2-c5c3-4907-b3f2-555ac85441b9",
   "metadata": {},
   "outputs": [
    {
     "data": {
      "text/plain": [
       "'charlie'"
      ]
     },
     "execution_count": 17,
     "metadata": {},
     "output_type": "execute_result"
    }
   ],
   "source": [
    "my_row[2][\"round_winner_by_cards\"]"
   ]
  },
  {
   "cell_type": "code",
   "execution_count": null,
   "id": "b02217a8-5dca-4ca1-bfc4-9ca52b4c92d3",
   "metadata": {},
   "outputs": [],
   "source": []
  }
 ],
 "metadata": {
  "kernelspec": {
   "display_name": "Python 3 (ipykernel)",
   "language": "python",
   "name": "python3"
  },
  "language_info": {
   "codemirror_mode": {
    "name": "ipython",
    "version": 3
   },
   "file_extension": ".py",
   "mimetype": "text/x-python",
   "name": "python",
   "nbconvert_exporter": "python",
   "pygments_lexer": "ipython3",
   "version": "3.10.8"
  }
 },
 "nbformat": 4,
 "nbformat_minor": 5
}
